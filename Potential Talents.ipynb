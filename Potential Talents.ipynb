{
 "cells": [
  {
   "cell_type": "code",
   "execution_count": 1,
   "id": "bfa1f650",
   "metadata": {},
   "outputs": [],
   "source": [
    "import pandas as pd\n",
    "import numpy as np\n",
    "import json\n",
    "import matplotlib\n",
    "import seaborn as sns\n",
    "import nltk\n",
    "import string\n",
    "from nltk.corpus import stopwords\n",
    "from sklearn.metrics import jaccard_score\n",
    "from nltk.metrics import jaccard_distance\n",
    "from nltk.tokenize import RegexpTokenizer\n",
    "from nltk.stem import WordNetLemmatizer\n",
    "from nltk.stem.porter import PorterStemmer\n",
    "from nltk.tokenize import word_tokenize"
   ]
  },
  {
   "cell_type": "markdown",
   "id": "96ecdf7e",
   "metadata": {},
   "source": [
    "# Performing EDA: Exploratory Data Analysis"
   ]
  },
  {
   "cell_type": "code",
   "execution_count": 2,
   "id": "4a0adedb",
   "metadata": {},
   "outputs": [],
   "source": [
    "#cur_dir = Path().resolve()\n",
    "#print(cur_dir)\n",
    "#path_to_file = Path.joinpath(cur_dir, 'potential_talents_OG.xlsx')\n",
    "#join_path = cur_dir / 'potential_talents_OG.xlsx'\n",
    "#print(\"the joined path =\", join_path)\n",
    "\n",
    "data = pd.read_excel(\"potential_talents_OG.xlsx\")"
   ]
  },
  {
   "cell_type": "code",
   "execution_count": 3,
   "id": "87c02e39",
   "metadata": {},
   "outputs": [
    {
     "name": "stdout",
     "output_type": "stream",
     "text": [
      "      id                                          job_title  \\\n",
      "0      1  2019 C.T. Bauer College of Business Graduate (...   \n",
      "1      2  Native English Teacher at EPIK (English Progra...   \n",
      "2      3              Aspiring Human Resources Professional   \n",
      "3      4             People Development Coordinator at Ryan   \n",
      "4      5    Advisory Board Member at Celal Bayar University   \n",
      "..   ...                                                ...   \n",
      "99   100  Aspiring Human Resources Manager | Graduating ...   \n",
      "100  101              Human Resources Generalist at Loparex   \n",
      "101  102   Business Intelligence and Analytics at Travelers   \n",
      "102  103                     Always set them up for Success   \n",
      "103  104   Director Of Administration at Excellence Logging   \n",
      "\n",
      "                                location connection  fit  \n",
      "0                         Houston, Texas         85  NaN  \n",
      "1                                 Kanada      500+   NaN  \n",
      "2    Raleigh-Durham, North Carolina Area         44  NaN  \n",
      "3                          Denton, Texas      500+   NaN  \n",
      "4                         İzmir, Türkiye      500+   NaN  \n",
      "..                                   ...        ...  ...  \n",
      "99              Cape Girardeau, Missouri        103  NaN  \n",
      "100  Raleigh-Durham, North Carolina Area      500+   NaN  \n",
      "101           Greater New York City Area         49  NaN  \n",
      "102             Greater Los Angeles Area      500+   NaN  \n",
      "103                          Katy, Texas      500+   NaN  \n",
      "\n",
      "[104 rows x 5 columns]\n"
     ]
    },
    {
     "data": {
      "text/html": [
       "<div>\n",
       "<style scoped>\n",
       "    .dataframe tbody tr th:only-of-type {\n",
       "        vertical-align: middle;\n",
       "    }\n",
       "\n",
       "    .dataframe tbody tr th {\n",
       "        vertical-align: top;\n",
       "    }\n",
       "\n",
       "    .dataframe thead th {\n",
       "        text-align: right;\n",
       "    }\n",
       "</style>\n",
       "<table border=\"1\" class=\"dataframe\">\n",
       "  <thead>\n",
       "    <tr style=\"text-align: right;\">\n",
       "      <th></th>\n",
       "      <th>id</th>\n",
       "      <th>job_title</th>\n",
       "      <th>location</th>\n",
       "      <th>connection</th>\n",
       "      <th>fit</th>\n",
       "    </tr>\n",
       "  </thead>\n",
       "  <tbody>\n",
       "    <tr>\n",
       "      <th>0</th>\n",
       "      <td>1</td>\n",
       "      <td>2019 C.T. Bauer College of Business Graduate (...</td>\n",
       "      <td>Houston, Texas</td>\n",
       "      <td>85</td>\n",
       "      <td>NaN</td>\n",
       "    </tr>\n",
       "    <tr>\n",
       "      <th>1</th>\n",
       "      <td>2</td>\n",
       "      <td>Native English Teacher at EPIK (English Progra...</td>\n",
       "      <td>Kanada</td>\n",
       "      <td>500+</td>\n",
       "      <td>NaN</td>\n",
       "    </tr>\n",
       "    <tr>\n",
       "      <th>2</th>\n",
       "      <td>3</td>\n",
       "      <td>Aspiring Human Resources Professional</td>\n",
       "      <td>Raleigh-Durham, North Carolina Area</td>\n",
       "      <td>44</td>\n",
       "      <td>NaN</td>\n",
       "    </tr>\n",
       "    <tr>\n",
       "      <th>3</th>\n",
       "      <td>4</td>\n",
       "      <td>People Development Coordinator at Ryan</td>\n",
       "      <td>Denton, Texas</td>\n",
       "      <td>500+</td>\n",
       "      <td>NaN</td>\n",
       "    </tr>\n",
       "    <tr>\n",
       "      <th>4</th>\n",
       "      <td>5</td>\n",
       "      <td>Advisory Board Member at Celal Bayar University</td>\n",
       "      <td>İzmir, Türkiye</td>\n",
       "      <td>500+</td>\n",
       "      <td>NaN</td>\n",
       "    </tr>\n",
       "  </tbody>\n",
       "</table>\n",
       "</div>"
      ],
      "text/plain": [
       "   id                                          job_title  \\\n",
       "0   1  2019 C.T. Bauer College of Business Graduate (...   \n",
       "1   2  Native English Teacher at EPIK (English Progra...   \n",
       "2   3              Aspiring Human Resources Professional   \n",
       "3   4             People Development Coordinator at Ryan   \n",
       "4   5    Advisory Board Member at Celal Bayar University   \n",
       "\n",
       "                              location connection  fit  \n",
       "0                       Houston, Texas         85  NaN  \n",
       "1                               Kanada      500+   NaN  \n",
       "2  Raleigh-Durham, North Carolina Area         44  NaN  \n",
       "3                        Denton, Texas      500+   NaN  \n",
       "4                       İzmir, Türkiye      500+   NaN  "
      ]
     },
     "execution_count": 3,
     "metadata": {},
     "output_type": "execute_result"
    }
   ],
   "source": [
    "# data = pd.read_excel(path_to_file)\n",
    "# print(data)\n",
    "print(data)\n",
    "data.head()"
   ]
  },
  {
   "cell_type": "code",
   "execution_count": 4,
   "id": "c0e6bbe1",
   "metadata": {},
   "outputs": [
    {
     "data": {
      "text/html": [
       "<div>\n",
       "<style scoped>\n",
       "    .dataframe tbody tr th:only-of-type {\n",
       "        vertical-align: middle;\n",
       "    }\n",
       "\n",
       "    .dataframe tbody tr th {\n",
       "        vertical-align: top;\n",
       "    }\n",
       "\n",
       "    .dataframe thead th {\n",
       "        text-align: right;\n",
       "    }\n",
       "</style>\n",
       "<table border=\"1\" class=\"dataframe\">\n",
       "  <thead>\n",
       "    <tr style=\"text-align: right;\">\n",
       "      <th></th>\n",
       "      <th>id</th>\n",
       "      <th>fit</th>\n",
       "    </tr>\n",
       "  </thead>\n",
       "  <tbody>\n",
       "    <tr>\n",
       "      <th>count</th>\n",
       "      <td>104.000000</td>\n",
       "      <td>0.0</td>\n",
       "    </tr>\n",
       "    <tr>\n",
       "      <th>mean</th>\n",
       "      <td>52.500000</td>\n",
       "      <td>NaN</td>\n",
       "    </tr>\n",
       "    <tr>\n",
       "      <th>std</th>\n",
       "      <td>30.166206</td>\n",
       "      <td>NaN</td>\n",
       "    </tr>\n",
       "    <tr>\n",
       "      <th>min</th>\n",
       "      <td>1.000000</td>\n",
       "      <td>NaN</td>\n",
       "    </tr>\n",
       "    <tr>\n",
       "      <th>25%</th>\n",
       "      <td>26.750000</td>\n",
       "      <td>NaN</td>\n",
       "    </tr>\n",
       "    <tr>\n",
       "      <th>50%</th>\n",
       "      <td>52.500000</td>\n",
       "      <td>NaN</td>\n",
       "    </tr>\n",
       "    <tr>\n",
       "      <th>75%</th>\n",
       "      <td>78.250000</td>\n",
       "      <td>NaN</td>\n",
       "    </tr>\n",
       "    <tr>\n",
       "      <th>max</th>\n",
       "      <td>104.000000</td>\n",
       "      <td>NaN</td>\n",
       "    </tr>\n",
       "  </tbody>\n",
       "</table>\n",
       "</div>"
      ],
      "text/plain": [
       "               id  fit\n",
       "count  104.000000  0.0\n",
       "mean    52.500000  NaN\n",
       "std     30.166206  NaN\n",
       "min      1.000000  NaN\n",
       "25%     26.750000  NaN\n",
       "50%     52.500000  NaN\n",
       "75%     78.250000  NaN\n",
       "max    104.000000  NaN"
      ]
     },
     "execution_count": 4,
     "metadata": {},
     "output_type": "execute_result"
    }
   ],
   "source": [
    "data.describe() # the stats of the data, mean, mediun, max and min, and std value of the data"
   ]
  },
  {
   "cell_type": "code",
   "execution_count": 5,
   "id": "87f26981",
   "metadata": {},
   "outputs": [
    {
     "data": {
      "text/plain": [
       "(104, 5)"
      ]
     },
     "execution_count": 5,
     "metadata": {},
     "output_type": "execute_result"
    }
   ],
   "source": [
    "data.shape # checking the shape of the data\n",
    "\n",
    "# balance data"
   ]
  },
  {
   "cell_type": "code",
   "execution_count": 6,
   "id": "d8649664",
   "metadata": {},
   "outputs": [
    {
     "data": {
      "text/plain": [
       "0      2019 C.T. Bauer College of Business Graduate (...\n",
       "1      Native English Teacher at EPIK (English Progra...\n",
       "2                  Aspiring Human Resources Professional\n",
       "3                 People Development Coordinator at Ryan\n",
       "4        Advisory Board Member at Celal Bayar University\n",
       "                             ...                        \n",
       "99     Aspiring Human Resources Manager | Graduating ...\n",
       "100                Human Resources Generalist at Loparex\n",
       "101     Business Intelligence and Analytics at Travelers\n",
       "102                       Always set them up for Success\n",
       "103     Director Of Administration at Excellence Logging\n",
       "Name: job_title, Length: 104, dtype: object"
      ]
     },
     "execution_count": 6,
     "metadata": {},
     "output_type": "execute_result"
    }
   ],
   "source": [
    "data['job_title']"
   ]
  },
  {
   "cell_type": "code",
   "execution_count": 7,
   "id": "2470d2a6",
   "metadata": {},
   "outputs": [
    {
     "data": {
      "text/plain": [
       "0                           Houston, Texas\n",
       "1                                   Kanada\n",
       "2      Raleigh-Durham, North Carolina Area\n",
       "3                            Denton, Texas\n",
       "4                           İzmir, Türkiye\n",
       "                      ...                 \n",
       "99                Cape Girardeau, Missouri\n",
       "100    Raleigh-Durham, North Carolina Area\n",
       "101             Greater New York City Area\n",
       "102               Greater Los Angeles Area\n",
       "103                            Katy, Texas\n",
       "Name: location, Length: 104, dtype: object"
      ]
     },
     "execution_count": 7,
     "metadata": {},
     "output_type": "execute_result"
    }
   ],
   "source": [
    "data['location']"
   ]
  },
  {
   "cell_type": "code",
   "execution_count": 8,
   "id": "5136ebce",
   "metadata": {},
   "outputs": [
    {
     "name": "stdout",
     "output_type": "stream",
     "text": [
      "Insert your free text: profession is to be a developer\n",
      "None\n",
      "0      [c, bauer, colleg, busi, graduat, magna, cum, ...\n",
      "1      [nativ, english, teacher, epik, english, progr...\n",
      "2                    [aspir, human, resourc, profession]\n",
      "3                        [peopl, develop, coordin, ryan]\n",
      "4       [advisori, board, member, celal, bayar, univers]\n",
      "                             ...                        \n",
      "99     [aspir, human, resourc, manag, graduat, may, s...\n",
      "100                [human, resourc, generalist, loparex]\n",
      "101                     [busi, intellig, analyt, travel]\n",
      "102                                [alway, set, success]\n",
      "103                    [director, administr, excel, log]\n",
      "Name: job_title, Length: 104, dtype: object\n",
      "['profess', 'develop']\n"
     ]
    }
   ],
   "source": [
    "#To lemmatize and stem an Excel file, remove stop words, remove punctuation, and tokenize the \n",
    "#text using RegexpTokenizer, you can follow these steps:\n",
    "\n",
    "tokenizer = RegexpTokenizer(r'\\w+')\n",
    "stop_words = set(stopwords.words('english'))\n",
    "lemmatizer = WordNetLemmatizer()\n",
    "stemmer = PorterStemmer()\n",
    "\n",
    "def preprocess_text(text):\n",
    "    # Tokenize the text\n",
    "    tokens = tokenizer.tokenize(text) if isinstance(text, str) else text\n",
    "    \n",
    "    # Remove punctuation\n",
    "    tokens = [token for token in tokens if token.isalpha()]\n",
    "\n",
    "    # Remove stop words\n",
    "    tokens = [token for token in tokens if token.lower() not in stop_words]\n",
    "\n",
    "    # Lemmatize\n",
    "    tokens = [lemmatizer.lemmatize(token) for token in tokens]\n",
    "\n",
    "    # Stem\n",
    "    tokens = [stemmer.stem(token) for token in tokens]\n",
    "\n",
    "    return tokens\n",
    "\n",
    "input_text = input(\"Insert your free text: \")\n",
    "preprocessed_input = preprocess_text(input_text) # Replace with the actual column names to process\n",
    "preprocessed_data_excel = data['job_title'].apply(preprocess_text)\n",
    "\n",
    "print(preprocessed_data_excel.to_excel('preprocessed_file.xlsx', index=False))\n",
    "print(preprocessed_data_excel) #printing out the processed columns\n",
    "print(preprocessed_input) # printing out the processed input text "
   ]
  },
  {
   "cell_type": "code",
   "execution_count": 9,
   "id": "bf8dfc25",
   "metadata": {},
   "outputs": [
    {
     "name": "stdout",
     "output_type": "stream",
     "text": [
      "                                             job_title  \\\n",
      "0    ['c', 'bauer', 'colleg', 'busi', 'graduat', 'm...   \n",
      "1    ['nativ', 'english', 'teacher', 'epik', 'engli...   \n",
      "2          ['aspir', 'human', 'resourc', 'profession']   \n",
      "3              ['peopl', 'develop', 'coordin', 'ryan']   \n",
      "4    ['advisori', 'board', 'member', 'celal', 'baya...   \n",
      "..                                                 ...   \n",
      "99   ['aspir', 'human', 'resourc', 'manag', 'gradua...   \n",
      "100      ['human', 'resourc', 'generalist', 'loparex']   \n",
      "101           ['busi', 'intellig', 'analyt', 'travel']   \n",
      "102                        ['alway', 'set', 'success']   \n",
      "103          ['director', 'administr', 'excel', 'log']   \n",
      "\n",
      "                                   preprocessed_column  fit_score  \n",
      "0    [c, bauer, colleg, busi, graduat, magna, cum, ...   0.076923  \n",
      "1    [nativ, english, teacher, epik, english, progr...   0.000000  \n",
      "2                     [aspir, human, resourc, profess]   0.200000  \n",
      "3                      [peopl, develop, coordin, ryan]   0.200000  \n",
      "4        [advisori, board, member, celal, bayar, univ]   0.000000  \n",
      "..                                                 ...        ...  \n",
      "99   [aspir, human, resourc, manag, graduat, may, s...   0.000000  \n",
      "100              [human, resourc, generalist, loparex]   0.000000  \n",
      "101                   [busi, intellig, analyt, travel]   0.000000  \n",
      "102                              [alway, set, success]   0.000000  \n",
      "103                  [director, administr, excel, log]   0.000000  \n",
      "\n",
      "[104 rows x 3 columns]\n"
     ]
    }
   ],
   "source": [
    "df = pd.read_excel('preprocessed_file.xlsx')\n",
    "df['preprocessed_column'] = df['job_title'].apply(preprocess_text)\n",
    "\n",
    "df['fit_score'] = df['preprocessed_column'].apply(lambda x: len(set(x).intersection(set(preprocessed_input))) / len(set(x).union(set(preprocessed_input))))\n",
    "df.to_excel('output_file.xlsx', index=False)\n",
    "print(df)"
   ]
  }
 ],
 "metadata": {
  "kernelspec": {
   "display_name": "Python 3 (ipykernel)",
   "language": "python",
   "name": "python3"
  },
  "language_info": {
   "codemirror_mode": {
    "name": "ipython",
    "version": 3
   },
   "file_extension": ".py",
   "mimetype": "text/x-python",
   "name": "python",
   "nbconvert_exporter": "python",
   "pygments_lexer": "ipython3",
   "version": "3.9.7"
  }
 },
 "nbformat": 4,
 "nbformat_minor": 5
}
